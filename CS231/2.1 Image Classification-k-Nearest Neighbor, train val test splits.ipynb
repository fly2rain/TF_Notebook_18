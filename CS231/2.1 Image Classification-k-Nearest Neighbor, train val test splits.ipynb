{
 "cells": [
  {
   "cell_type": "markdown",
   "metadata": {},
   "source": [
    "## [Image Classification: Data-driven Approach, k-Nearest Neighbor, train/val/test splits](http://cs231n.github.io/classification/)\n",
    "\n",
    "## - L1/L2 distances, hyperparameter search, cross-validation"
   ]
  },
  {
   "cell_type": "markdown",
   "metadata": {},
   "source": [
    "# 1. Image Classification\n",
    "* simple and basic task in CV, key tech for the object detection, segmentation.\n",
    "\n",
    "#### Challenges of classify a cat for example\n",
    "* **Viewpoint variation**. A single instance of an object can be oriented in many ways with respect to the camera.\n",
    "* **Scale variation**. Visual classes often exhibit variation in their size (size in the real world, not only in terms of their extent in the image).\n",
    "* **Deformation 变形**. Many objects of interest are not rigid bodies and can be deformed in extreme ways.\n",
    "* **Occlusion**. The objects of interest can be occluded. Sometimes only a small portion of an object (as little as few pixels) could be visible.\n",
    "* **Illumination conditions**. The effects of illumination are drastic on the pixel level.\n",
    "* **Background clutter 杂乱**. The objects of interest may blend into 融入 their environment, making them hard to identify.\n",
    "* **Intra-class 类内 variation**. The classes of interest can often be relatively broad, such as chair. There are many different types of these objects, each with their own appearance.\n",
    "\n",
    "![exmaple of challenges](http://cs231n.github.io/assets/challenges.jpeg)"
   ]
  },
  {
   "cell_type": "markdown",
   "metadata": {},
   "source": [
    "#### Data-driven approach. \n",
    "* not tell the PC everything about each category (actually we cannot)\n",
    "* learn the rule to classify from data.\n",
    "![example training set](http://cs231n.github.io/assets/trainset.jpg)\n",
    "we need the training set with data and labels as shown above."
   ]
  },
  {
   "cell_type": "markdown",
   "metadata": {
    "collapsed": true
   },
   "source": [
    "# 2. Nearest Neighbor Classifier\n",
    "\n",
    "### 原理 Ideas about KNN\n",
    "* 评价： KNN is nothing to do with CNN and seldom used in practice.\n",
    "\n",
    "### 数据库 Datasets: [The CIFAR-10 dataset](https://www.cs.toronto.edu/~kriz/cifar.html)\n",
    "* The CIFAR-10 dataset consists of 60000 32x32 colour images in 10 classes, with 6000 images per class.\n",
    "* There are 50000 training images and 10000 test images. \n",
    "* The dataset is divided into **five training batches** and **one test batch**, each with 10000 images.\n",
    "* The test batch contains exactly 1000 randomly-selected images from each class. The training batches contain the remaining images in random order, but some training batches may contain more images from one class than another.  Between them, the training batches contain exactly 5000 images from each class. \n",
    "\n",
    "![](http://cs231n.github.io/assets/nn.jpg)\n",
    "**Left**: Example images from the CIFAR-10 dataset. **Right**: first column shows a few test images and next to each we show the top 10 nearest neighbors in the training set according to pixel-wise difference.\n",
    "\n",
    "### Distance metrics: L1 based distance\n",
    "* given two images and representing them as vectors $I_1,\\ I_2$, a reasonable choice for comparing them might be the L1 distance:\n",
    "$$\n",
    "d_1\\left(I_{1},I_{2}\\right)=\\sum_{p}\\left|I_{1}^{p}-I_{2}^{p}\\right|\n",
    "$$\n",
    "Where the sum is taken over all pixels. Here is the procedure visualized:\n",
    "![](http://cs231n.github.io/assets/nneg.jpeg)"
   ]
  },
  {
   "cell_type": "markdown",
   "metadata": {},
   "source": [
    "### Code 感受一下: K=1 NN"
   ]
  },
  {
   "cell_type": "code",
   "execution_count": null,
   "metadata": {
    "collapsed": true
   },
   "outputs": [],
   "source": [
    "Xtr, Ytr, Xte, Yte = load_CIFAR10('data/cifar10/') # a magic function we provide\n",
    "\n",
    "# flatten out all images to be one-dimensional\n",
    "Xtr_rows = Xtr.reshape(Xtr.shape[0], 32 * 32 * 3) # Xtr_rows becomes 50000 x 3072，\n",
    "# 两个维度量挺有意思，Xtr.shape[0], 32 * 32 * 3\n",
    "Xte_rows = Xte.reshape(Xte.shape[0], 32 * 32 * 3) # Xte_rows becomes 10000 x 3072"
   ]
  },
  {
   "cell_type": "markdown",
   "metadata": {},
   "source": [
    "###### 以下是 KNN 的 main function \n",
    "* $Xtr$ (of size $50,000 \\times 32 \\times 32 \\times 3$) holds all the images in the training set, \n",
    "* a corresponding 1-dimensional array $Ytr$ (of length 50,000) holds the training labels (from 0 to 9):"
   ]
  },
  {
   "cell_type": "code",
   "execution_count": null,
   "metadata": {
    "collapsed": true
   },
   "outputs": [],
   "source": [
    "# create a Nearest Neighbor classifier class\n",
    "nn = NearestNeighbor()\n",
    "\n",
    "# train the classifier on the training images and labels\n",
    "nn.train(Xtr_rows, Ytr) \n",
    "\n",
    "# predict labels on the test images\n",
    "Yte_predict = nn.predict(Xte_rows) \n",
    "\n",
    "# and now print the classification accuracy, which is the average number\n",
    "# of examples that are correctly predicted (i.e. label matches)\n",
    "print 'accuracy: %f' % ( np.mean(Yte_predict == Yte) )"
   ]
  },
  {
   "cell_type": "markdown",
   "metadata": {},
   "source": [
    "######  关键是  a Nearest Neighbor classifier class，比较有意思，一个classfier创建成一个 class，这样做有什么好好处呢？"
   ]
  },
  {
   "cell_type": "code",
   "execution_count": null,
   "metadata": {
    "collapsed": true
   },
   "outputs": [],
   "source": [
    "import numpy as np\n",
    "\n",
    "class NearestNeighbor(object):\n",
    "    def __init__(self):\n",
    "        pass\n",
    "\n",
    "    def train(self, X, y):\n",
    "        \"\"\" X is N x D where each row is an example. Y is 1-dimension of size N \"\"\"\n",
    "        # the nearest neighbor classifier simply remembers all the training data\n",
    "        self.Xtr = X\n",
    "        self.ytr = y\n",
    "\n",
    "    def predict(self, X):\n",
    "        \"\"\" X is N x D where each row is an example we wish to predict label for \"\"\"\n",
    "        num_test = X.shape[0]\n",
    "        \n",
    "        # lets make sure that the output type matches the input type\n",
    "        Ypred = np.zeros(num_test, dtype = self.ytr.dtype) ### ytr.dype \n",
    "\n",
    "        # loop over all test rows\n",
    "        for i in xrange(num_test):\n",
    "            # find the nearest training image to the i'th test image\n",
    "            # using the L1 distance (sum of absolute value differences)\n",
    "            distances = np.sum(np.abs(self.Xtr - X[i,:]), axis = 1)\n",
    "            min_index = np.argmin(distances) # get the index with smallest distance\n",
    "            Ypred[i]  = self.ytr[min_index]  # predict the label of the nearest example\n",
    "\n",
    "        return Ypred"
   ]
  },
  {
   "cell_type": "markdown",
   "metadata": {},
   "source": [
    "######  Distance 如果使用 L2 Distance\n",
    "$$ \n",
    "d_{2}\\left(I_{1},I_{2}\\right)=\\sqrt{\\sum_{p}\\left(I_{1}^{p}-I_{2}^{p}\\right)^{2}}\n",
    "$$\n",
    "\n",
    "```python\n",
    "distances = np.sqrt(np.sum(np.square(self.Xtr - X[i,:]), axis = 1))\n",
    "``` \n",
    "\n",
    "######  L1 vs. L2\n",
    "* L1 got an accuracy 38.6%, and L2 got an accuracy of 35.4%.\n",
    "* the L2 distance prefers many medium disagreements to one big one."
   ]
  },
  {
   "cell_type": "markdown",
   "metadata": {},
   "source": [
    "### $k$ - Nearest Neighbor Classifier\n",
    "* Intuitively, higher values of $k$ a smoothing effect that makes the classifier more resistant to outliers:\n",
    "![](http://cs231n.github.io/assets/knn.jpeg)"
   ]
  },
  {
   "cell_type": "markdown",
   "metadata": {},
   "source": [
    "### Validation sets for Hyperparameter tuning\n",
    "* hyperparameter includes $k$ and different distance functions (like L1 norm, L2 norm, there are many other choices)\n",
    "* we should try out many different values and see what works best.\n",
    "* **we cannot use the test set for the purpose of tweaking hyperparameters**.\n",
    "    * Whenever you’re designing Machine Learning algorithms, you should think of the test set as a very precious resource that should ideally never be touched until one time at the very end. \n",
    "    * Otherwise, the very real danger is that you may tune your hyperparameters to work well on the test set, but if you were to deploy your model you could see a significantly reduced performance. In practice, we would say that you **overfit** to the test set.\n",
    "    * But if you only use the test set once at end, it remains a **good proxy for measuring** the **generalization** of your classifier (we will see much more discussion surrounding generalization later in the class).\n",
    "\n",
    "* #### Split your training set into training set and a validation set. Use validation set to tune all hyperparameters. At the end run a single time on the test set and report performance.\n",
    "\n",
    "* Luckily, there is a correct way of tuning the hyperparameters and it does not touch the test set at all. The idea is to split our training set in two: a slightly smaller training set, and what we call a **validation set**. Using CIFAR-10 as an example, we could for example use 49,000 of the training images for training, and leave 1,000 aside for validation. This validation set is essentially used as **a fake test set to tune the hyper-parameters**.\n",
    "\n",
    "\n",
    "#### The code with the validation"
   ]
  },
  {
   "cell_type": "code",
   "execution_count": null,
   "metadata": {
    "collapsed": true
   },
   "outputs": [],
   "source": [
    "# assume we have Xtr_rows, Ytr, Xte_rows, Yte as before\n",
    "# recall Xtr_rows is 50,000 x 3072 matrix\n",
    "Xval_rows = Xtr_rows[:1000, :] # take first 1000 for validation\n",
    "Yval = Ytr[:1000]\n",
    "\n",
    "Xtr_rows = Xtr_rows[1000:, :] # keep last 49,000 for train\n",
    "Ytr = Ytr[1000:]\n",
    "\n",
    "# find hyperparameters that work best on the validation set\n",
    "validation_accuracies = []\n",
    "for k in [1, 3, 5, 10, 20, 50, 100]:\n",
    "  \n",
    "    # use a particular value of k and evaluation on validation data\n",
    "    nn = NearestNeighbor()\n",
    "    nn.train(Xtr_rows, Ytr)\n",
    "    \n",
    "    # here we assume a modified NearestNeighbor class that can take a k as input\n",
    "    Yval_predict = nn.predict(Xval_rows, k = k) ## the KNN classifier class should be revised accordingly.\n",
    "    acc = np.mean(Yval_predict == Yval)\n",
    "    print 'accuracy: %f' % (acc,)\n",
    "\n",
    "    # keep track of what works on the validation set\n",
    "    validation_accuracies.append((k, acc))"
   ]
  },
  {
   "cell_type": "markdown",
   "metadata": {},
   "source": [
    "By the end of this procedure, we could plot a graph that shows which values of k work best. We would then stick with this value and evaluate once on the actual test set."
   ]
  },
  {
   "cell_type": "markdown",
   "metadata": {},
   "source": [
    "# Method #2:"
   ]
  },
  {
   "cell_type": "code",
   "execution_count": null,
   "metadata": {
    "collapsed": true
   },
   "outputs": [],
   "source": []
  }
 ],
 "metadata": {
  "kernelspec": {
   "display_name": "Python 2",
   "language": "python",
   "name": "python2"
  },
  "language_info": {
   "codemirror_mode": {
    "name": "ipython",
    "version": 2
   },
   "file_extension": ".py",
   "mimetype": "text/x-python",
   "name": "python",
   "nbconvert_exporter": "python",
   "pygments_lexer": "ipython2",
   "version": "2.7.13"
  }
 },
 "nbformat": 4,
 "nbformat_minor": 2
}
