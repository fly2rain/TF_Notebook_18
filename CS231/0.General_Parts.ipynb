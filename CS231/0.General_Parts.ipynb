{
 "cells": [
  {
   "cell_type": "markdown",
   "metadata": {},
   "source": [
    "# Course Description\n",
    "webpage： http://cs231n.stanford.edu/\n",
    "\n",
    "\n",
    "## 1. 课程网页首页的内容\n",
    "\n",
    "#### 课程总结介绍\n",
    "* CV has been everywhere, like applications in search, image understanding, apps, mapping 地图, medicine, drones 无人机, and self-driving cars.\n",
    "* Core CV tasks: image classification, localization and detection.\n",
    "* Focus on:\n",
    "    * teaching how to set up the problem of image recognition,\n",
    "    * the learning algorithms (e.g. backpropagation), \n",
    "    * practical engineering tricks for training and fine-tuning the networks \n",
    "    \n",
    "#### 网页的三个主要模块：\n",
    "* [Course note](http://cs231n.github.io/) 这一块很重要，包含各种重要的细节的notes。\n",
    "* [Detailed Syllabus 教学大纲](http://cs231n.stanford.edu/syllabus.html) 很重要，包括大纲，各种资源链接，包括slides， video等等。\n",
    "* [Lecture Videos](https://www.youtube.com/playlist?list=PL3FW7Lu3i5JvHM8ljYj-zLfQRF3EO8sYv) 很重要，所有的  video.b"
   ]
  },
  {
   "cell_type": "markdown",
   "metadata": {},
   "source": [
    "## 2. Course notes\n",
    "### 2.1. Module 0: Preparation\n",
    "* Google Cloud Tutorial\n",
    "* Google Cloud with GPUs Tutorial (for assignment 2 onwards)\n",
    "* AWS Tutorial"
   ]
  }
 ],
 "metadata": {
  "kernelspec": {
   "display_name": "Python 2",
   "language": "python",
   "name": "python2"
  },
  "language_info": {
   "codemirror_mode": {
    "name": "ipython",
    "version": 2
   },
   "file_extension": ".py",
   "mimetype": "text/x-python",
   "name": "python",
   "nbconvert_exporter": "python",
   "pygments_lexer": "ipython2",
   "version": "2.7.13"
  }
 },
 "nbformat": 4,
 "nbformat_minor": 2
}
