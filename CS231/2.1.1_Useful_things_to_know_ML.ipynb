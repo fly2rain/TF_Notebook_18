{
 "cells": [
  {
   "cell_type": "markdown",
   "metadata": {
    "toc": true
   },
   "source": [
    "<h1>Table of Contents<span class=\"tocSkip\"></span></h1>\n",
    "<div class=\"toc\" style=\"margin-top: 1em;\"><ul class=\"toc-item\"><li><span><a href=\"#Abstract\" data-toc-modified-id=\"Abstract-1\"><span class=\"toc-item-num\">1&nbsp;&nbsp;</span>Abstract</a></span></li><li><span><a href=\"#Introduction\" data-toc-modified-id=\"Introduction-2\"><span class=\"toc-item-num\">2&nbsp;&nbsp;</span>Introduction</a></span></li><li><span><a href=\"#Learning-=-representation-+-evaluation-+-optimization\" data-toc-modified-id=\"Learning-=-representation-+-evaluation-+-optimization-3\"><span class=\"toc-item-num\">3&nbsp;&nbsp;</span>Learning = representation + evaluation + optimization</a></span></li><li><span><a href=\"#It's-generalization-that-counts\" data-toc-modified-id=\"It's-generalization-that-counts-4\"><span class=\"toc-item-num\">4&nbsp;&nbsp;</span>It's generalization that counts</a></span></li><li><span><a href=\"#Data-alone-is-not-enough\" data-toc-modified-id=\"Data-alone-is-not-enough-5\"><span class=\"toc-item-num\">5&nbsp;&nbsp;</span>Data alone is not enough</a></span></li><li><span><a href=\"#Intuition-fails-in-high-dimensions\" data-toc-modified-id=\"Intuition-fails-in-high-dimensions-6\"><span class=\"toc-item-num\">6&nbsp;&nbsp;</span>Intuition fails in high dimensions</a></span></li><li><span><a href=\"#Theoretical-guarantees-are-not-what-they-seem\" data-toc-modified-id=\"Theoretical-guarantees-are-not-what-they-seem-7\"><span class=\"toc-item-num\">7&nbsp;&nbsp;</span>Theoretical guarantees are not what they seem</a></span></li><li><span><a href=\"#Feature-engineering-is-the-key\" data-toc-modified-id=\"Feature-engineering-is-the-key-8\"><span class=\"toc-item-num\">8&nbsp;&nbsp;</span>Feature engineering is the key</a></span></li><li><span><a href=\"#More-data-beats-a-cleverer-algorithm\" data-toc-modified-id=\"More-data-beats-a-cleverer-algorithm-9\"><span class=\"toc-item-num\">9&nbsp;&nbsp;</span>More data beats a cleverer algorithm</a></span></li><li><span><a href=\"#learn-many-models,-not-just-one\" data-toc-modified-id=\"learn-many-models,-not-just-one-10\"><span class=\"toc-item-num\">10&nbsp;&nbsp;</span>learn many models, not just one</a></span></li><li><span><a href=\"#simplicity-does-not-imply-accuracy\" data-toc-modified-id=\"simplicity-does-not-imply-accuracy-11\"><span class=\"toc-item-num\">11&nbsp;&nbsp;</span>simplicity does not imply accuracy</a></span></li><li><span><a href=\"#Representable-does-not-imply-learnable\" data-toc-modified-id=\"Representable-does-not-imply-learnable-12\"><span class=\"toc-item-num\">12&nbsp;&nbsp;</span>Representable does not imply learnable</a></span></li><li><span><a href=\"#Conclusion\" data-toc-modified-id=\"Conclusion-13\"><span class=\"toc-item-num\">13&nbsp;&nbsp;</span>Conclusion</a></span></li></ul></div>"
   ]
  },
  {
   "cell_type": "markdown",
   "metadata": {},
   "source": [
    "# A Few Useful Things to Know about Machine Learning\n",
    "##### INFO\n",
    "* Pedro Domingos\n",
    "\n",
    "## Abstract\n",
    "* **ML 原理、优势**：perform important tasks by **generalizing from examples**. **优势: feasible and cost-effective** where manual programming is not.\n",
    "* **ML 潜力**：As more data becomes available, more ambitious problems can be tackled. 因此，ML 广泛应用于 CS  and other fields.\n",
    "* **问题**：developing successful machine learning applications requires a **substantial amount of “black art”** that is hard to find in textbooks.\n",
    "* **解决**：This article **summarizes twelve key lessons** that machine learning researchers and practitioners have learned. Including：(1) pitfalls 陷阱 to avoid, (2) important issues to focus on, (3) answers to common questions."
   ]
  },
  {
   "cell_type": "markdown",
   "metadata": {},
   "source": [
    "## Introduction\n",
    "* Machine learning systems **automatically learn programs from data**. \n",
    "    * This is often a very attractive alternative to manually constructing them, and in the last decade the use of machine learning has spread rapidly throughout computer science and beyond.\n",
    "    * Machine learning is used in Web search, spam 垃圾邮件 filters, recommender systems, ad placement 放置, credit scoring, fraud 诈骗 detection, stock trading, drug design, and many other applications. \n",
    "    * machine learning (a.k.a. data mining or predictive analytics) will be the driver of the next big wave of innovation [16].\n",
    "    * much of this folk knowledge 民间知识 is fairly easy to communicate. This is the purpose of this article\n",
    "* 本文将以 classification 为例介绍 skills，因为它是最成熟的 ML算法，但适用于所有 ML.\n",
    "* spam filters 建模 (参照 introduction 第2段，有意思)\n",
    "    * 原来 feature 是类似于 bag of words"
   ]
  },
  {
   "cell_type": "markdown",
   "metadata": {},
   "source": [
    "## Learning = representation + evaluation + optimization\n",
    "> ML 算法成千上万，为了简单梳理，它们主要包含以下几个模块：\n",
    "\n",
    "> **Representation**. A classifier must be represented in some formal language that the computer can handle.\n",
    "* [ML alg] This set is called the hypothesis space of the learner. If a classifier is not in the hypothesis space, it cannot be learned. \n",
    "* [Feature] A related question, which we will address in a later section, is how to represent the input, i.e., what features to use.\n",
    "    \n",
    "> **Evaluation**. \n",
    "* An evaluation function (also called *objective function or scoring 得分 function*) is needed to distinguish good classifiers from bad ones.\n",
    "* [是这样的，以前碰到过] The evaluation function used internally 内部地 by the algorithm may differ from the external 外部的 one that we want the classifier to optimize,\n",
    "    * for ease of optimization (see below) \n",
    "    * and due to the issues discussed in the next section.\n",
    "\n",
    "> **Optimization**.\n",
    "* The choice of optimization technique is key to the efficiency of the learner, and also helps determine the classifier produced if the evaluation function has more than one optimum. \n",
    "* It is common for new learners to start out using off-the-shelf optimizers, which are later replaced by custom-designed ones.\n",
    "    \n",
    "--------  \n",
    "> Table 1 shows common examples of each of these three com- ponents. \n",
    "![](http://api.ning.com/files/MOC7BqAcxPuQS9W2NCsCd*jZz7jTP39e9bqmOSqFihVTYgAlO4ZO0y1pQVvzW*bCauKaHkeFopxC0mdApwZzBVeyGHfEqB0x/Figure1_ML_Components.png)\n"
   ]
  },
  {
   "cell_type": "markdown",
   "metadata": {},
   "source": [
    "## It's generalization that counts"
   ]
  },
  {
   "cell_type": "markdown",
   "metadata": {},
   "source": [
    "## Data alone is not enough"
   ]
  },
  {
   "cell_type": "markdown",
   "metadata": {},
   "source": [
    "## Intuition fails in high dimensions"
   ]
  },
  {
   "cell_type": "markdown",
   "metadata": {},
   "source": [
    "## Theoretical guarantees are not what they seem"
   ]
  },
  {
   "cell_type": "markdown",
   "metadata": {},
   "source": [
    "## Feature engineering is the key"
   ]
  },
  {
   "cell_type": "markdown",
   "metadata": {},
   "source": [
    "## More data beats a cleverer algorithm"
   ]
  },
  {
   "cell_type": "markdown",
   "metadata": {},
   "source": [
    "## learn many models, not just one"
   ]
  },
  {
   "cell_type": "markdown",
   "metadata": {},
   "source": [
    "## simplicity does not imply accuracy"
   ]
  },
  {
   "cell_type": "markdown",
   "metadata": {},
   "source": [
    "## Representable does not imply learnable"
   ]
  },
  {
   "cell_type": "markdown",
   "metadata": {},
   "source": [
    "## Conclusion"
   ]
  },
  {
   "cell_type": "markdown",
   "metadata": {},
   "source": [
    "## "
   ]
  },
  {
   "cell_type": "markdown",
   "metadata": {},
   "source": [
    "## "
   ]
  },
  {
   "cell_type": "markdown",
   "metadata": {},
   "source": [
    "## "
   ]
  },
  {
   "cell_type": "markdown",
   "metadata": {},
   "source": [
    "## "
   ]
  },
  {
   "cell_type": "markdown",
   "metadata": {},
   "source": [
    "## "
   ]
  },
  {
   "cell_type": "markdown",
   "metadata": {},
   "source": [
    "## "
   ]
  },
  {
   "cell_type": "markdown",
   "metadata": {},
   "source": [
    "## "
   ]
  },
  {
   "cell_type": "markdown",
   "metadata": {},
   "source": [
    "## "
   ]
  }
 ],
 "metadata": {
  "kernelspec": {
   "display_name": "Python 2",
   "language": "python",
   "name": "python2"
  },
  "language_info": {
   "codemirror_mode": {
    "name": "ipython",
    "version": 2
   },
   "file_extension": ".py",
   "mimetype": "text/x-python",
   "name": "python",
   "nbconvert_exporter": "python",
   "pygments_lexer": "ipython2",
   "version": "2.7.13"
  },
  "toc": {
   "nav_menu": {},
   "number_sections": true,
   "sideBar": false,
   "skip_h1_title": true,
   "toc_cell": true,
   "toc_position": {
    "height": "275px",
    "left": "898px",
    "right": "20px",
    "top": "0px",
    "width": "123px"
   },
   "toc_section_display": "block",
   "toc_window_display": true
  }
 },
 "nbformat": 4,
 "nbformat_minor": 2
}
