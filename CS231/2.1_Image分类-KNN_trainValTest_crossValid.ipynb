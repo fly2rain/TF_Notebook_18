{
 "cells": [
  {
   "cell_type": "markdown",
   "metadata": {
    "toc": true
   },
   "source": [
    "<h1>Table of Contents<span class=\"tocSkip\"></span></h1>\n",
    "<div class=\"toc\" style=\"margin-top: 1em;\"><ul class=\"toc-item\"><li><ul class=\"toc-item\"><li><span><a href=\"#Image-Classification:-Data-driven-Approach,-k-Nearest-Neighbor,-train/val/test-splits\" data-toc-modified-id=\"Image-Classification:-Data-driven-Approach,-k-Nearest-Neighbor,-train/val/test-splits-0.1\"><span class=\"toc-item-num\">0.1&nbsp;&nbsp;</span><a href=\"http://cs231n.github.io/classification/\" target=\"_blank\">Image Classification: Data-driven Approach, k-Nearest Neighbor, train/val/test splits</a></a></span></li><li><span><a href=\"#--L1/L2-distances,-hyperparameter-search,-cross-validation\" data-toc-modified-id=\"--L1/L2-distances,-hyperparameter-search,-cross-validation-0.2\"><span class=\"toc-item-num\">0.2&nbsp;&nbsp;</span>- L1/L2 distances, hyperparameter search, cross-validation</a></span></li></ul></li><li><span><a href=\"#Image-Classification\" data-toc-modified-id=\"Image-Classification-1\"><span class=\"toc-item-num\">1&nbsp;&nbsp;</span>Image Classification</a></span></li><li><span><a href=\"#Nearest-Neighbor-Classifier\" data-toc-modified-id=\"Nearest-Neighbor-Classifier-2\"><span class=\"toc-item-num\">2&nbsp;&nbsp;</span>Nearest Neighbor Classifier</a></span><ul class=\"toc-item\"><li><span><a href=\"#原理-Ideas-about-KNN\" data-toc-modified-id=\"原理-Ideas-about-KNN-2.1\"><span class=\"toc-item-num\">2.1&nbsp;&nbsp;</span>原理 Ideas about KNN</a></span></li><li><span><a href=\"#数据库-Datasets:-The-CIFAR-10-dataset\" data-toc-modified-id=\"数据库-Datasets:-The-CIFAR-10-dataset-2.2\"><span class=\"toc-item-num\">2.2&nbsp;&nbsp;</span>数据库 Datasets: <a href=\"https://www.cs.toronto.edu/~kriz/cifar.html\" target=\"_blank\">The CIFAR-10 dataset</a></a></span></li><li><span><a href=\"#Distance-metrics:-L1-based-distance\" data-toc-modified-id=\"Distance-metrics:-L1-based-distance-2.3\"><span class=\"toc-item-num\">2.3&nbsp;&nbsp;</span>Distance metrics: L1 based distance</a></span></li><li><span><a href=\"#Code-感受一下:-K=1-NN\" data-toc-modified-id=\"Code-感受一下:-K=1-NN-2.4\"><span class=\"toc-item-num\">2.4&nbsp;&nbsp;</span>Code 感受一下: K=1 NN</a></span></li><li><span><a href=\"#K-Nearest-Neighbor-Classifier\" data-toc-modified-id=\"K-Nearest-Neighbor-Classifier-2.5\"><span class=\"toc-item-num\">2.5&nbsp;&nbsp;</span>K-Nearest Neighbor Classifier</a></span></li><li><span><a href=\"#Validation-sets-for-Hyperparameter-tuning\" data-toc-modified-id=\"Validation-sets-for-Hyperparameter-tuning-2.6\"><span class=\"toc-item-num\">2.6&nbsp;&nbsp;</span>Validation sets for Hyperparameter tuning</a></span></li><li><span><a href=\"#Cross-validation-(CV)\" data-toc-modified-id=\"Cross-validation-(CV)-2.7\"><span class=\"toc-item-num\">2.7&nbsp;&nbsp;</span>Cross-validation (CV)</a></span></li><li><span><a href=\"#Pros-and-Cons-of-K-NN\" data-toc-modified-id=\"Pros-and-Cons-of-K-NN-2.8\"><span class=\"toc-item-num\">2.8&nbsp;&nbsp;</span>Pros and Cons of K-NN</a></span><ul class=\"toc-item\"><li><span><a href=\"#Pros\" data-toc-modified-id=\"Pros-2.8.1\"><span class=\"toc-item-num\">2.8.1&nbsp;&nbsp;</span>Pros</a></span></li><li><span><a href=\"#Cons\" data-toc-modified-id=\"Cons-2.8.2\"><span class=\"toc-item-num\">2.8.2&nbsp;&nbsp;</span>Cons</a></span></li><li><span><a href=\"#Practical-uses-&amp;-raw-pixel-is-bad\" data-toc-modified-id=\"Practical-uses-&amp;-raw-pixel-is-bad-2.8.3\"><span class=\"toc-item-num\">2.8.3&nbsp;&nbsp;</span>Practical uses &amp; raw pixel is bad</a></span></li><li><span><a href=\"#Extensions-of-KNN-to-solve-the-drawbacks\" data-toc-modified-id=\"Extensions-of-KNN-to-solve-the-drawbacks-2.8.4\"><span class=\"toc-item-num\">2.8.4&nbsp;&nbsp;</span>Extensions of KNN to solve the drawbacks</a></span></li></ul></li></ul></li><li><span><a href=\"#Summary\" data-toc-modified-id=\"Summary-3\"><span class=\"toc-item-num\">3&nbsp;&nbsp;</span>Summary</a></span><ul class=\"toc-item\"><li><span><a href=\"#Note-Summary\" data-toc-modified-id=\"Note-Summary-3.1\"><span class=\"toc-item-num\">3.1&nbsp;&nbsp;</span>Note Summary</a></span></li><li><span><a href=\"#Summary:-Applying-kNN-in-practice\" data-toc-modified-id=\"Summary:-Applying-kNN-in-practice-3.2\"><span class=\"toc-item-num\">3.2&nbsp;&nbsp;</span>Summary: Applying kNN in practice</a></span></li></ul></li><li><span><a href=\"#Further-Reading\" data-toc-modified-id=\"Further-Reading-4\"><span class=\"toc-item-num\">4&nbsp;&nbsp;</span>Further Reading</a></span></li></ul></div>"
   ]
  },
  {
   "cell_type": "markdown",
   "metadata": {},
   "source": [
    "## [Image Classification: Data-driven Approach, k-Nearest Neighbor, train/val/test splits](http://cs231n.github.io/classification/)\n",
    "\n",
    "## - L1/L2 distances, hyperparameter search, cross-validation"
   ]
  },
  {
   "cell_type": "markdown",
   "metadata": {},
   "source": [
    "# Image Classification\n",
    "* simple and basic task in CV, key tech for the object detection, segmentation.\n",
    "\n",
    "#### Challenges of classify a cat for example\n",
    "* **Viewpoint variation**. A single instance of an object can be oriented in many ways with respect to the camera.\n",
    "* **Scale variation**. Visual classes often exhibit variation in their size (size in the real world, not only in terms of their extent in the image).\n",
    "* **Deformation 变形**. Many objects of interest are not rigid bodies and can be deformed in extreme ways.\n",
    "* **Occlusion**. The objects of interest can be occluded. Sometimes only a small portion of an object (as little as few pixels) could be visible.\n",
    "* **Illumination conditions**. The effects of illumination are drastic on the pixel level.\n",
    "* **Background clutter 杂乱**. The objects of interest may blend into 融入 their environment, making them hard to identify.\n",
    "* **Intra-class 类内 variation**. The classes of interest can often be relatively broad, such as chair. There are many different types of these objects, each with their own appearance.\n",
    "\n",
    "![exmaple of challenges](http://cs231n.github.io/assets/challenges.jpeg)"
   ]
  },
  {
   "cell_type": "markdown",
   "metadata": {},
   "source": [
    "#### Data-driven approach. \n",
    "* not tell the PC everything about each category (actually we cannot)\n",
    "* learn the rule to classify from data.\n",
    "![example training set](http://cs231n.github.io/assets/trainset.jpg)\n",
    "we need the training set with data and labels as shown above."
   ]
  },
  {
   "cell_type": "markdown",
   "metadata": {
    "collapsed": true
   },
   "source": [
    "# Nearest Neighbor Classifier\n",
    "\n",
    "## 原理 Ideas about KNN\n",
    "* 评价： KNN is nothing to do with CNN and seldom used in practice.\n",
    "\n",
    "## 数据库 Datasets: [The CIFAR-10 dataset](https://www.cs.toronto.edu/~kriz/cifar.html)\n",
    "* The CIFAR-10 dataset consists of 60000 32x32 color images in 10 classes, with 6000 images per class.\n",
    "* There are 50000 training images and 10000 test images. \n",
    "* The dataset is divided into **five training batches** and **one test batch**, each with 10000 images.\n",
    "* The test batch contains exactly 1000 randomly-selected images from each class. The training batches contain the remaining images in random order, but some training batches may contain more images from one class than another.  Between them, the training batches contain exactly 5000 images from each class. \n",
    "\n",
    "![](http://cs231n.github.io/assets/nn.jpg)\n",
    "**Left**: Example images from the CIFAR-10 dataset. **Right**: first column shows a few test images and next to each we show the top 10 nearest neighbors in the training set according to pixel-wise difference.\n",
    "\n",
    "## Distance metrics: L1 based distance\n",
    "* given two images and representing them as vectors $I_1,\\ I_2$, a reasonable choice for comparing them might be the L1 distance:\n",
    "$$\n",
    "d_1\\left(I_{1},I_{2}\\right)=\\sum_{p}\\left|I_{1}^{p}-I_{2}^{p}\\right|\n",
    "$$\n",
    "Where the sum is taken over all pixels. Here is the procedure visualized:\n",
    "![](http://cs231n.github.io/assets/nneg.jpeg)"
   ]
  },
  {
   "cell_type": "markdown",
   "metadata": {},
   "source": [
    "## Code 感受一下: K=1 NN"
   ]
  },
  {
   "cell_type": "code",
   "execution_count": null,
   "metadata": {
    "collapsed": true
   },
   "outputs": [],
   "source": [
    "Xtr, Ytr, Xte, Yte = load_CIFAR10('data/cifar10/') # a magic function we provide\n",
    "\n",
    "# flatten out all images to be one-dimensional\n",
    "Xtr_rows = Xtr.reshape(Xtr.shape[0], 32 * 32 * 3) # Xtr_rows becomes 50000 x 3072，\n",
    "\n",
    "# 两个维度量挺有意思，Xtr.shape[0], 32 * 32 * 3\n",
    "Xte_rows = Xte.reshape(Xte.shape[0], 32 * 32 * 3) # Xte_rows becomes 10000 x 3072"
   ]
  },
  {
   "cell_type": "markdown",
   "metadata": {},
   "source": [
    "###### 以下是 KNN 的 main function \n",
    "* $Xtr$ (of size $50,000 \\times 32 \\times 32 \\times 3$) holds all the images in the training set, \n",
    "* a corresponding 1-dimensional array $Ytr$ (of length 50,000) holds the training labels (from 0 to 9):"
   ]
  },
  {
   "cell_type": "code",
   "execution_count": null,
   "metadata": {
    "collapsed": true
   },
   "outputs": [],
   "source": [
    "# create a Nearest Neighbor classifier class\n",
    "nn = NearestNeighbor()\n",
    "\n",
    "# train the classifier on the training images and labels\n",
    "nn.train(Xtr_rows, Ytr) \n",
    "\n",
    "# predict labels on the test images\n",
    "Yte_predict = nn.predict(Xte_rows) \n",
    "\n",
    "# and now print the classification accuracy, which is the average number\n",
    "# of examples that are correctly predicted (i.e. label matches)\n",
    "print 'accuracy: %f' % ( np.mean(Yte_predict == Yte) )"
   ]
  },
  {
   "cell_type": "markdown",
   "metadata": {},
   "source": [
    "######  关键是  a Nearest Neighbor classifier class，比较有意思，一个classfier创建成一个 class，这样做有什么好好处呢？"
   ]
  },
  {
   "cell_type": "code",
   "execution_count": null,
   "metadata": {
    "collapsed": true
   },
   "outputs": [],
   "source": [
    "import numpy as np\n",
    "\n",
    "class NearestNeighbor(object):\n",
    "    def __init__(self):\n",
    "        pass\n",
    "\n",
    "    def train(self, X, y):\n",
    "        \"\"\" X is N x D where each row is an example. Y is 1-dimension of size N \"\"\"\n",
    "        # the nearest neighbor classifier simply remembers all the training data\n",
    "        self.Xtr = X\n",
    "        self.ytr = y\n",
    "\n",
    "    def predict(self, X):\n",
    "        \"\"\" X is N x D where each row is an example we wish to predict label for \"\"\"\n",
    "        num_test = X.shape[0]\n",
    "        \n",
    "        # lets make sure that the output type matches the input type\n",
    "        Ypred = np.zeros(num_test, dtype = self.ytr.dtype) ### ytr.dype \n",
    "\n",
    "        # loop over all test rows\n",
    "        for i in xrange(num_test):\n",
    "            # find the nearest training image to the i'th test image\n",
    "            # using the L1 distance (sum of absolute value differences)\n",
    "            distances = np.sum(np.abs(self.Xtr - X[i,:]), axis = 1)\n",
    "            \n",
    "            min_index = np.argmin(distances) # get the index with smallest distance\n",
    "            Ypred[i]  = self.ytr[min_index]  # predict the label of the nearest example\n",
    "\n",
    "        return Ypred"
   ]
  },
  {
   "cell_type": "markdown",
   "metadata": {},
   "source": [
    "######  Distance 如果使用 L2 Distance\n",
    "$$ \n",
    "d_{2}\\left(I_{1},I_{2}\\right)=\\sqrt{\\sum_{p}\\left(I_{1}^{p}-I_{2}^{p}\\right)^{2}}\n",
    "$$\n",
    "\n",
    "```python\n",
    "distances = np.sqrt(np.sum(np.square(self.Xtr - X[i,:]), axis = 1))\n",
    "``` \n",
    "\n",
    "######  L1 vs. L2\n",
    "* L1 got an accuracy 38.6%, and L2 got an accuracy of 35.4%.\n",
    "* the L2 distance prefers many medium disagreements to one big one."
   ]
  },
  {
   "cell_type": "markdown",
   "metadata": {},
   "source": [
    "## K-Nearest Neighbor Classifier\n",
    "* Intuitively, higher values of $k$ a smoothing effect that makes the classifier more resistant to outliers:\n",
    "![](http://cs231n.github.io/assets/knn.jpeg)"
   ]
  },
  {
   "cell_type": "markdown",
   "metadata": {},
   "source": [
    "## Validation sets for Hyperparameter tuning\n",
    "* hyperparameter includes $k$ and different distance functions (like L1 norm, L2 norm, there are many other choices)\n",
    "* we should try out many different values and see what works best.\n",
    "* **we cannot use the test set for the purpose of tweaking 调整 hyperparameters**.\n",
    "    * Whenever you’re designing Machine Learning algorithms, you should think of the test set as a very precious resource that should ideally never be touched until one time at the very end. \n",
    "    * Otherwise, the very real danger is that you may tune your hyperparameters to work well on the test set, but if you were to deploy your model you could see a significantly reduced performance. In practice, we would say that you **overfit** to the test set.\n",
    "    * But if you only use the test set once at end, it remains a **good proxy for measuring** the **generalization** of your classifier (we will see much more discussion surrounding generalization later in the class).\n",
    "\n",
    "* #### Split your training set into training set and a validation set. Use validation set to tune all hyperparameters. At the end run a single time on the test set and report performance.\n",
    "\n",
    "* Luckily, there is a correct way of tuning the hyperparameters and it does not touch the test set at all. The idea is to split our training set in two: a slightly smaller training set, and what we call a **validation set**. Using CIFAR-10 as an example, we could for example use 49,000 of the training images for training, and leave 1,000 aside for validation. This validation set is essentially used as **a fake test set to tune the hyper-parameters**.\n",
    "\n",
    "\n",
    "#### The code with the validation"
   ]
  },
  {
   "cell_type": "code",
   "execution_count": null,
   "metadata": {
    "collapsed": true
   },
   "outputs": [],
   "source": [
    "# assume we have Xtr_rows, Ytr, Xte_rows, Yte as before\n",
    "# recall Xtr_rows is 50,000 x 3072 matrix\n",
    "Xval_rows = Xtr_rows[:1000, :] # take first 1000 for validation\n",
    "Yval      = Ytr[:1000]\n",
    "\n",
    "Xtr_rows = Xtr_rows[1000:, :] # keep last 49,000 for train\n",
    "Ytr      = Ytr[1000:]\n",
    "\n",
    "# find hyperparameters that work best on the validation set\n",
    "validation_accuracies = []\n",
    "for k in [1, 3, 5, 10, 20, 50, 100]:\n",
    "  \n",
    "    # use a particular value of k and evaluation on validation data\n",
    "    nn = NearestNeighbor()\n",
    "    nn.train(Xtr_rows, Ytr)\n",
    "    \n",
    "    # here we assume a modified NearestNeighbor class that can take a k as input\n",
    "    Yval_predict = nn.predict(Xval_rows, k = k) ## the KNN classifier class should be revised accordingly.\n",
    "    acc = np.mean(Yval_predict == Yval)\n",
    "    print 'accuracy: %f' % (acc,)\n",
    "\n",
    "    # keep track of what works on the validation set\n",
    "    validation_accuracies.append((k, acc))"
   ]
  },
  {
   "cell_type": "markdown",
   "metadata": {},
   "source": [
    "By the end of this procedure, we could plot a graph that shows which values of k work best. We would then stick with this value and evaluate once on the actual test set."
   ]
  },
  {
   "cell_type": "markdown",
   "metadata": {},
   "source": [
    "## Cross-validation (CV)\n",
    "* Cross-validation 是 validation 的特殊种类 (样本太少的情况). In cases where the size of your training data (and therefore also the validation data) might be small, people sometimes use a more sophisticated technique for hyperparameter tuning called **cross-validation**. \n",
    "* CV 效果更好: you can get a better and less noisy estimate of how well a certain value of k works by iterating over different validation sets and averaging the performance across these.\n",
    "    * Exp of CV: For example, in 5-fold cross-validation, we would split the **training data** into 5 equal folds, use 4 of them for training, and 1 for validation. We would then iterate over which fold is the validation fold, evaluate the performance, and finally average the performance across the different folds.\n",
    "    * Exp results illustartion: $k=7$ 效果最好 \n",
    "    ![](http://cs231n.github.io/assets/cvplot.png)\n",
    "    \n",
    "###### In practice. \n",
    "* In practice, people prefer to avoid cross-validation in favor of having a single validation split, since cross-validation can be computationally expensive.\n",
    "* The splits people tend to use is between $50\\%-90\\%$ of the training data for training and rest for validation. However, this depends on multiple factors: \n",
    "    * For example if the **number of hyperparameters** is large you may prefer to use bigger validation splits. \n",
    "    * If the number of examples in the validation set is small (perhaps only a few hundred or so), it is safer to use cross-validation.\n",
    "        * Typical number of folds you can see in practice would be 3-fold, 5-fold or 10-fold cross-validation.\n",
    "        ![](http://cs231n.github.io/assets/crossval.jpeg)"
   ]
  },
  {
   "cell_type": "markdown",
   "metadata": {},
   "source": [
    "## Pros and Cons of K-NN\n",
    "### Pros\n",
    "* very simple to implement and understand.\n",
    "* the classifier takes no time to train, since all that is required is to store and possibly index the training data.\n",
    "\n",
    "### Cons\n",
    "* we pay that computational cost at test time, since classifying a test example requires a comparison to every single training example. \n",
    "    * in practice we often care about the test time efficiency much more than the efficiency at training time.\n",
    "    *  In fact, the deep neural networks we will develop later in this class shift this tradeoff to the other extreme: They are very expensive to train, but once the training is finished it is very cheap to classify a new test example. This mode of operation is much more desirable in practice.\n",
    "    \n",
    "### Practical uses & raw pixel is bad\n",
    "* The Nearest Neighbor Classifier may sometimes be a good choice in some settings (especially if the data is low-dimensional), but it is rarely appropriate for use in practical image classification settings. \n",
    "* One problem is that images are high-dimensional objects (i.e. they often contain many pixels), and distances over high-dimensional spaces can be very counter-intuitive (反直觉的). The image below illustrates the point that the pixel-based L2 similarities we developed above are very different from perceptual similarities:\n",
    "![](http://cs231n.github.io/assets/samenorm.png)\n",
    "Figure. Pixel-based distances on high-dimensional data (and images especially) can be very unintuitive. (1) 是原图，(2) (3) (4) 和 (1) 的距离相等。\n",
    "\n",
    "* [t-SNE](http://homepage.tudelft.nl/19j49/t-SNE.html) to show the distances between images in the CIFAR-10 datasets.\n",
    "![](http://cs231n.github.io/assets/pixels_embed_cifar10.jpg)\n",
    "Figure. CIFAR-10 images embedded in two dimensions with t-SNE. Images that are nearby on this image are considered to be close based on the L2 pixel distance. \n",
    "    * note that images that are nearby each other are much more a function of **the general color distribution of the images**, or the type of background rather than their semantic identity. **For example**, a dog can be seen very near a frog since both happen to be on white background. \n",
    "    * Ideally we would like images of all of the 10 classes to form their own clusters, so that images of the same class are nearby to each other regardless of irrelevant characteristics and variations (such as the background).\n",
    "    * However, to get this property we will have to go beyond raw pixels.\n",
    "\n",
    "\n",
    "\n",
    "    \n",
    "    \n",
    "\n",
    "### Extensions of KNN to solve the drawbacks\n",
    "* **Approximate Nearest Neighbor (ANN)** algorithms and libraries exist that can accelerate the nearest neighbor lookup in a dataset (e.g. [FLANN](http://www.cs.ubc.ca/research/flann/)). 两种思路：testing时，减少对比的次数 （找代表性样本），或减少单次对比的运算量（使用 binary feature，like hash）。\n",
    "* These algorithms allow one to **trade off** the correctness of the nearest neighbor retrieval with its space/time complexity during retrieval, and usually rely on a pre-processing/indexing stage that involves building a kdtree, or running the k-means algorithm. [猜想 use kmeans to select subset of training samples to reduce the testing costs]"
   ]
  },
  {
   "cell_type": "markdown",
   "metadata": {},
   "source": [
    "# Summary\n",
    "## Note Summary\n",
    "* the problem of Image Classification, a set of images that are all labeled with **a single category**.\n",
    "* We introduced a simple classifier called the Nearest Neighbor classifier.  multiple hyper-parameters (such as value of k, or the type of distance used to compare examples) needs to set.\n",
    "* split your training data into two: a training set and a fake test set, which we call **validation set**. We try different hyperparameter values and keep the values that lead to the best performance on the validation set.\n",
    "* If the lack of training data is a concern, we discussed a procedure called **cross-validation**, which can help reduce noise in estimating which hyperparameters work best.\n",
    "* Once the best hyperparameters are found, we fix them and perform a **single evaluation** on the actual test set.\n",
    "* We saw that Nearest Neighbor can get us about 40% accuracy on CIFAR-10. It is simple to implement but requires us to store the entire training set and it is expensive to evaluate on a test image.\n",
    "* Finally, we saw that the use of L1 or L2 distances on raw pixel values is not adequate since the distances correlate more strongly with backgrounds and color distributions of images than with their semantic content.\n"
   ]
  },
  {
   "cell_type": "markdown",
   "metadata": {},
   "source": [
    "## Summary: Applying kNN in practice\n",
    "If you wish to apply kNN in practice (hopefully not on images, or perhaps as only a baseline) proceed as follows:\n",
    "* Preprocess your data: Normalize the features in your data (e.g. one pixel in images) to have zero mean and unit variance.\n",
    "    * We will cover this in more detail in later sections, and chose not to cover data normalization in this section because pixels in images are usually homogeneous (同质的) and do not exhibit widely different distributions, alleviating 减轻 the need for data normalization.  \n",
    "* If your data is very high-dimensional, consider using a dimensionality reduction technique such as PCA or even [Random Projections 有意思哈](http://scikit-learn.org/stable/modules/random_projection.html).\n",
    "* If your kNN classifier is running too long, consider using an Approximate Nearest Neighbor library (e.g. FLANN) to accelerate the retrieval (at cost of some accuracy).\n",
    "* (非常有意思的问题) Take note of the hyperparameters that gave the best results. \n",
    "    * There is a question of whether you should use the full training set with the best hyperparameters, since the optimal hyperparameters might change if you were to fold the validation data into your training set (since the size of the data would be larger).\n",
    "    * In practice it is cleaner **to not use** the validation data in the final classifier and **consider it to be burned on estimating the hyperparameters**. Evaluate the best model on the test set. Report the test set accuracy and declare the result to be the performance of the kNN classifier on your data."
   ]
  },
  {
   "cell_type": "markdown",
   "metadata": {},
   "source": [
    "# Further Reading\n",
    "Here are some (optional) links you may find interesting for further reading:\n",
    "* [A Few Useful Things to Know about Machine Learning](http://homes.cs.washington.edu/~pedrod/papers/cacm12.pdf), where especially section 6 is related but the whole paper is a warmly recommended reading.\n",
    "* [Recognizing and Learning Object Categories](http://people.csail.mit.edu/torralba/shortCourseRLOC/index.html), a short course of object categorization at ICCV 2005.\n"
   ]
  }
 ],
 "metadata": {
  "kernelspec": {
   "display_name": "Python 2",
   "language": "python",
   "name": "python2"
  },
  "language_info": {
   "codemirror_mode": {
    "name": "ipython",
    "version": 2
   },
   "file_extension": ".py",
   "mimetype": "text/x-python",
   "name": "python",
   "nbconvert_exporter": "python",
   "pygments_lexer": "ipython2",
   "version": "2.7.13"
  },
  "nbTranslate": {
   "displayLangs": [
    "*"
   ],
   "hotkey": "alt-t",
   "langInMainMenu": true,
   "sourceLang": "en",
   "targetLang": "fr",
   "useGoogleTranslate": true
  },
  "toc": {
   "nav_menu": {},
   "number_sections": true,
   "sideBar": true,
   "skip_h1_title": false,
   "toc_cell": true,
   "toc_position": {
    "height": "601px",
    "left": "0px",
    "right": "20px",
    "top": "108px",
    "width": "161px"
   },
   "toc_section_display": "block",
   "toc_window_display": false
  }
 },
 "nbformat": 4,
 "nbformat_minor": 2
}
