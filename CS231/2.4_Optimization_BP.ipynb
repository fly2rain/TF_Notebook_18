{
 "cells": [
  {
   "cell_type": "markdown",
   "metadata": {
    "toc": true
   },
   "source": [
    "<h1>Table of Contents<span class=\"tocSkip\"></span></h1>\n",
    "<div class=\"toc\" style=\"margin-top: 1em;\"><ul class=\"toc-item\"><li><span><a href=\"#Introduction\" data-toc-modified-id=\"Introduction-1\"><span class=\"toc-item-num\">1&nbsp;&nbsp;</span>Introduction</a></span></li><li><span><a href=\"#Intuitive-understanding-of-backpropagation\" data-toc-modified-id=\"Intuitive-understanding-of-backpropagation-2\"><span class=\"toc-item-num\">2&nbsp;&nbsp;</span>Intuitive understanding of backpropagation</a></span></li></ul></div>"
   ]
  },
  {
   "cell_type": "markdown",
   "metadata": {
    "collapsed": true
   },
   "source": [
    "# [Backpropagation, Intuitions](http://cs231n.github.io/optimization-2/)\n",
    "\n",
    "* chain rule interpretation, real-valued circuits, patterns in gradient flow"
   ]
  },
  {
   "cell_type": "markdown",
   "metadata": {},
   "source": [
    "## Introduction\n",
    "* backpropagation: a way of computing gradients of expressions through recursive application of chain rule.\n",
    "* Problem statement: given $f(x)$ and input $x$, calculate $\\nabla_x f(x)$"
   ]
  },
  {
   "cell_type": "markdown",
   "metadata": {},
   "source": [
    "## Intuitive understanding of backpropagation\n",
    "\n",
    "* <span class=\"girk\">backpropagation</span> is a beautifully local process, at which computestwo things:\n",
    "    * its output value\n",
    "    * the local gradient of its inputs with respect to its output value.feiyun\n",
    "    \n",
    "* Cache **forward pass** variables\n",
    "    * To compute the **backward pass** it is very helpful to have some of the variables that were used in the forward pass.\n",
    "    * In practice you want to **structure your code** so that you cache these variables, and so that they are available during backpropagation. If this is too difficult, it is possible (but wasteful) to recompute them.\n",
    "    \n",
    "* Gradients add up at forks. \n",
    "    * The forward expression involves the variables $x,y$ multiple times, so when we perform backpropagation we must be careful to use $+=$ instead of $=$ to accumulate the gradient on these variables (otherwise we would overwrite it).\n",
    "    * multivariable chain rule"
   ]
  },
  {
   "cell_type": "markdown",
   "metadata": {},
   "source": [
    "## "
   ]
  },
  {
   "cell_type": "markdown",
   "metadata": {},
   "source": [
    "## "
   ]
  },
  {
   "cell_type": "markdown",
   "metadata": {},
   "source": [
    "## "
   ]
  },
  {
   "cell_type": "markdown",
   "metadata": {},
   "source": [
    "## "
   ]
  },
  {
   "cell_type": "markdown",
   "metadata": {},
   "source": [
    "## "
   ]
  },
  {
   "cell_type": "markdown",
   "metadata": {},
   "source": [
    "## "
   ]
  },
  {
   "cell_type": "markdown",
   "metadata": {},
   "source": [
    "## "
   ]
  }
 ],
 "metadata": {
  "kernelspec": {
   "display_name": "Python 2",
   "language": "python",
   "name": "python2"
  },
  "language_info": {
   "codemirror_mode": {
    "name": "ipython",
    "version": 2
   },
   "file_extension": ".py",
   "mimetype": "text/x-python",
   "name": "python",
   "nbconvert_exporter": "python",
   "pygments_lexer": "ipython2",
   "version": "2.7.13"
  },
  "toc": {
   "nav_menu": {},
   "number_sections": true,
   "sideBar": false,
   "skip_h1_title": true,
   "toc_cell": true,
   "toc_position": {
    "height": "261px",
    "left": "827px",
    "right": "20px",
    "top": "106.786px",
    "width": "212px"
   },
   "toc_section_display": "block",
   "toc_window_display": true
  }
 },
 "nbformat": 4,
 "nbformat_minor": 2
}
